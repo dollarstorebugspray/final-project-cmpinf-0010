{
 "cells": [
  {
   "cell_type": "markdown",
   "id": "475491f4-d4d2-4d2a-8f56-676a057abf3a",
   "metadata": {},
   "source": [
    "# Neighborhood Metrics Analysis\n",
    "\n",
    "## Team Name\n",
    "The Tired Duo\n",
    "\n",
    "## Team Members\n",
    "- Ilya Abbasian (ilya@email.com) worked on were ranked_merged.ipynb and also ranked_merged.ipynb\n",
    "- Raymond Zong (RHZ4@pitt.edu)\n",
    "\n",
    "## Description and Datasets\n",
    "This project analyzes neighborhood-level metrics by combining multiple datasets. It focuses on evaluating land acreage, total deaths, employment statistics, and K-12 school enrollment to identify trends or patterns across neighborhoods.\n",
    "\n",
    "### **Datasets Used**\n",
    "1. `land.csv` - Contains neighborhood acreage data.\n",
    "2. `medianagedeath.csv` - Reports total deaths by neighborhood.\n",
    "3. `employment.csv` - Includes employment estimates by neighborhood.\n",
    "4. `school_enrollment.csv` - Contains K-12 student enrollment data.\n",
    "\n",
    "### **Repository Contents**\n",
    "- **`final-project.ipynb`**: The main notebook consolidating all the data analysis and results.\n",
    "- **`points_merged.ipynb`**: Intermediate processing of combined datasets.\n",
    "- **`ranked_merged.ipynb`**: Focused analysis for ranking neighborhoods.\n",
    "- **Data Files**:\n",
    "   - `land.csv`  \n",
    "   - `medianagedeath.csv`  \n",
    "   - `employment.csv`  \n",
    "   - `school_enrollment.csv`  \n",
    "- **Output Files**:\n",
    "   - `ranked_points.csv` - Ranked neighborhoods based on acreage and deaths.\n",
    "   - `percent_points.csv` - Percentage-based points for employment and K-12 enrollment.\n",
    "   - `total_points.csv` - Final combined points for all metrics.\n",
    "- **`maps.jpg`**: Visual asset for geographic reference.\n",
    "\n",
    "## Overview\n",
    "This repository integrates neighborhood-level data to rank and evaluate various metrics, such as:\n",
    "- **Land Size** (acres)\n",
    "- **Total Deaths** per neighborhood\n",
    "- **Employment** levels\n",
    "- **K-12 School Enrollment**\n",
    "\n",
    "The analysis uses Python with **pandas** for data processing and outputs useful insights into neighborhood trends.\n"
   ]
  },
  {
   "cell_type": "code",
   "execution_count": null,
   "id": "3ec496d1-f6f9-4dae-a96a-1423d4dbd03c",
   "metadata": {},
   "outputs": [],
   "source": []
  }
 ],
 "metadata": {
  "kernelspec": {
   "display_name": "Python 3 (ipykernel)",
   "language": "python",
   "name": "python3"
  },
  "language_info": {
   "codemirror_mode": {
    "name": "ipython",
    "version": 3
   },
   "file_extension": ".py",
   "mimetype": "text/x-python",
   "name": "python",
   "nbconvert_exporter": "python",
   "pygments_lexer": "ipython3",
   "version": "3.12.4"
  }
 },
 "nbformat": 4,
 "nbformat_minor": 5
}
