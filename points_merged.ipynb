{
 "cells": [
  {
   "cell_type": "code",
   "execution_count": 7,
   "id": "add9b8f1-8207-4568-9aa5-eace2aed358f",
   "metadata": {},
   "outputs": [],
   "source": [
    "# CODE TO GET THE DATA TO SHOW OUR NARRATIVE\n",
    "import pandas as pd\n",
    "\n",
    "## GETS SECOND DATASET\n",
    "columns_to_load = ['Neighborhood', 'Estimate; Total:']\n",
    "job_df = pd.read_csv(\"employment.csv\", usecols=columns_to_load)\n",
    "job_df['Neighborhood'] = job_df['Neighborhood'].str.replace('-', ' ')\n",
    "job_df.rename(columns={'Estimate; Total:': 'Employed Residents'}, inplace=True)\n",
    "\n",
    "\n",
    "## GETS THIRD DATASET\n",
    "columns_to_load = ['Neighborhood', 'Estimate; Total:']\n",
    "students_df = pd.read_csv(\"school_enrollment.csv\", usecols=columns_to_load)\n",
    "students_df['Neighborhood'] = students_df['Neighborhood'].str.replace('-', ' ')\n",
    "students_df.rename(columns={'Estimate; Total:': 'K-12 Students'}, inplace=True)\n",
    "\n",
    "\n",
    "df_merged = pd.merge(job_df, students_df, on='Neighborhood', how='outer')\n",
    "\n",
    "\n",
    "max_values = df_merged.drop(columns=['Neighborhood']).max()\n",
    "for col in max_values.index:\n",
    "    new_col_name = f\"{col} Points\"  # Create a new column name\n",
    "    df_merged[new_col_name] = ((df_merged[col] / max_values[col]) * 100).round()\n",
    "\n",
    "df_merged.to_csv('percent_points.csv', index=False)\n"
   ]
  },
  {
   "cell_type": "code",
   "execution_count": null,
   "id": "2fd412e3-054a-4b75-af3d-ce6ad61ddcc5",
   "metadata": {},
   "outputs": [],
   "source": []
  }
 ],
 "metadata": {
  "kernelspec": {
   "display_name": "Python 3 (ipykernel)",
   "language": "python",
   "name": "python3"
  },
  "language_info": {
   "codemirror_mode": {
    "name": "ipython",
    "version": 3
   },
   "file_extension": ".py",
   "mimetype": "text/x-python",
   "name": "python",
   "nbconvert_exporter": "python",
   "pygments_lexer": "ipython3",
   "version": "3.11.5"
  }
 },
 "nbformat": 4,
 "nbformat_minor": 5
}
