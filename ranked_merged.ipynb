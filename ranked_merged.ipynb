{
 "cells": [
  {
   "cell_type": "code",
   "execution_count": 7,
   "id": "e09762ae-621d-47dc-8c62-cc214e2f24d2",
   "metadata": {},
   "outputs": [],
   "source": [
    "# CODE TO GET THE DATA TO SHOW OUR NARRATIVE\n",
    "import pandas as pd\n",
    "\n",
    "\n",
    "## GETS ACRE DATASET\n",
    "columns_to_load = ['hood', 'acres']\n",
    "acre_df = pd.read_csv(\"land.csv\", usecols=columns_to_load)\n",
    "acre_df = acre_df.sort_values(by='hood', ascending=True)\n",
    "acre_df.rename(columns={'hood': 'Neighborhood'}, inplace=True)\n",
    "acre_df['Neighborhood'] = acre_df['Neighborhood'].str.replace('-', ' ')\n",
    "\n",
    "## GETS DEATHS DATASET\n",
    "columns_to_load = ['NEIGHBORHOOD', 'TOTALdeaths*']\n",
    "deaths_df = pd.read_csv(\"medianagedeath.csv\", usecols=columns_to_load)\n",
    "deaths_df.rename(columns={'NEIGHBORHOOD': 'Neighborhood'}, inplace=True)\n",
    "deaths_df.rename(columns={'TOTALdeaths*': 'Total Deaths'}, inplace=True)\n",
    "deaths_df['Neighborhood'] = deaths_df['Neighborhood'].str.title()\n",
    "deaths_df['Neighborhood'] = deaths_df['Neighborhood'].str.replace('-', ' ')\n",
    "\n",
    "\n",
    "df_merged = pd.merge(acre_df, deaths_df, on='Neighborhood', how='outer')\n",
    "df_merged.rename(columns={'acres': 'Acres'}, inplace=True)\n",
    "## FIRST TWO DATASETS MERGED AND ORGANIZED\n",
    "\n",
    "\n",
    "\n",
    "\n",
    "df_merged['Acres Points'] = df_merged['Acres'].rank(ascending=True, method='min').fillna(0).astype(int)\n",
    "df_merged['Death Points'] = df_merged['Total Deaths'].rank(ascending=False, method='min').fillna(0).astype(int)\n",
    "df_merged.to_csv('ranked_points.csv', index=False)"
   ]
  },
  {
   "cell_type": "code",
   "execution_count": null,
   "id": "bb6750f0-f875-4114-b0e5-7ddad4786bf5",
   "metadata": {},
   "outputs": [],
   "source": []
  }
 ],
 "metadata": {
  "kernelspec": {
   "display_name": "Python 3 (ipykernel)",
   "language": "python",
   "name": "python3"
  },
  "language_info": {
   "codemirror_mode": {
    "name": "ipython",
    "version": 3
   },
   "file_extension": ".py",
   "mimetype": "text/x-python",
   "name": "python",
   "nbconvert_exporter": "python",
   "pygments_lexer": "ipython3",
   "version": "3.11.5"
  }
 },
 "nbformat": 4,
 "nbformat_minor": 5
}
