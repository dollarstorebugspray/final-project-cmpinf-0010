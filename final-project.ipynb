{
 "cells": [
  {
   "cell_type": "markdown",
   "id": "521ff11a-b453-4b5a-ae69-53a9be3e2f8c",
   "metadata": {},
   "source": [
    "Introduction:\n",
    "\n",
    "The Metrics:\n",
    "Acre Dataset Metric: The\n",
    "Employment Dataset Metric:\n",
    "K-12 Enrollment Dataset Metric:\n",
    "Total Death Dataset Metric:"
   ]
  },
  {
   "cell_type": "code",
   "execution_count": 16,
   "id": "f3515bf7-3bda-44a4-bc3e-670e4fbac1d9",
   "metadata": {},
   "outputs": [],
   "source": [
    "# CODE TO GET THE DATA TO SHOW OUR NARRATIVE\n",
    "import pandas as pd\n",
    "\n",
    "\n",
    "## GET RANKED DATASET\n",
    "columns_to_load = ['Neighborhood', 'Acres Points', 'Death Points']\n",
    "ranked_df = pd.read_csv(\"ranked_points.csv\", usecols=columns_to_load)\n",
    "ranked_df = ranked_df.sort_values(by='Neighborhood', ascending=True)\n",
    "ranked_df['Neighborhood'] = ranked_df['Neighborhood'].str.replace('-', ' ')\n",
    "\n",
    "## GET PERCENTAGE DATASET\n",
    "columns_to_load = ['Neighborhood', 'Employed Residents Points', 'K-12 Students Points']\n",
    "percent_df = pd.read_csv(\"percent_points.csv\", usecols=columns_to_load)\n",
    "percent_df = percent_df.sort_values(by='Neighborhood', ascending=True)\n",
    "percent_df['Neighborhood'] = percent_df['Neighborhood'].str.replace('-', ' ')\n",
    "\n",
    "\n",
    "df_merged = pd.merge(ranked_df, percent_df, on='Neighborhood', how='outer')\n",
    "\n",
    "numeric_cols = df_merged.drop(columns=['Neighborhood']).columns  # Identify numeric columns\n",
    "df_merged['Total Points'] = df_merged[numeric_cols].sum(axis=1)\n",
    "df_merged.to_csv('total_points.csv', index=False)\n",
    "\n",
    "\n"
   ]
  },
  {
   "cell_type": "markdown",
   "id": "0c768408-2a63-4d46-a734-baba59579b17",
   "metadata": {},
   "source": [
    "Explain stuff with pictures/visuals of the data to show why X neighborhood is the best. Incorporate a data visualization, perhaps to rank all of the neighborhoods or show a neighborhood’s best-ness over time. The key is to make a data driven argument."
   ]
  },
  {
   "cell_type": "markdown",
   "id": "b83aa716-640d-45d6-a5a2-a4fde591bba9",
   "metadata": {},
   "source": [
    "Conclusion: Reflect on how the data-driven determination of “best neighborhood” is the same or different from your personal favorite neighborhood. Each member of the group should write their own response to this.\n"
   ]
  },
  {
   "cell_type": "code",
   "execution_count": null,
   "id": "ce2beda0-71af-4583-b1bd-7ea610ad706c",
   "metadata": {},
   "outputs": [],
   "source": []
  }
 ],
 "metadata": {
  "kernelspec": {
   "display_name": "Python 3 (ipykernel)",
   "language": "python",
   "name": "python3"
  },
  "language_info": {
   "codemirror_mode": {
    "name": "ipython",
    "version": 3
   },
   "file_extension": ".py",
   "mimetype": "text/x-python",
   "name": "python",
   "nbconvert_exporter": "python",
   "pygments_lexer": "ipython3",
   "version": "3.11.5"
  }
 },
 "nbformat": 4,
 "nbformat_minor": 5
}
