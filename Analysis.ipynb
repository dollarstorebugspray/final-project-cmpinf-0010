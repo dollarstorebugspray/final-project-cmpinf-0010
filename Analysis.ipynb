{
 "cells": [
  {
   "cell_type": "markdown",
   "id": "475491f4-d4d2-4d2a-8f56-676a057abf3a",
   "metadata": {},
   "source": [
    "# Neighborhood Metrics Analysis\n",
    "\n",
    "## Team Name\n",
    "The Tired Duo\n",
    "\n",
    "## Team Members\n",
    "- Ilya Abbasian (ilya@email.com) worked on were ranked_merged.ipynb and also ranked_merged.ipynb\n",
    "- Raymond Zong (RHZ4@pitt.edu)\n",
    "\n",
    "## Description and Datasets\n",
    "This project analyzes neighborhood-level metrics by combining multiple datasets. It focuses on evaluating land acreage, total deaths, employment statistics, and K-12 school enrollment to identify trends or patterns across neighborhoods.\n",
    "\n",
    "### **Datasets Used**\n",
    "1. `land.csv` - Contains neighborhood acreage data.\n",
    "2. `medianagedeath.csv` - Reports total deaths by neighborhood.\n",
    "3. `employment.csv` - Includes employment estimates by neighborhood.\n",
    "4. `school_enrollment.csv` - Contains K-12 student enrollment data.\n",
    "\n",
    "### **Repository Contents**\n",
    "- **`final-project.ipynb`**: The main notebook consolidating all the data analysis and results.\n",
    "In this final notebook we brought together all the cleaned and processed datasets like the land acreage, total deaths, employment levels, and K-12 school enrollment in order to evaluate neighborhoods comprehensively. By merging these datasets and assigning both ranks and percentage points we could easily identify trends and patterns across neighborhoods, whilst also taking out any biases that we may have.\n",
    "The results highlight key insights: neighborhoods with smaller land sizes and high death counts may face challenges such as overcrowding or limited public resources. Similarly looking at employment and school enrollment data shows potential economic disparities, with some neighborhoods showing high student enrollment but low employment levels. Combining these metrics into a single way to rank the neighborhoods gives us a clear picture of neighborhood conditions and enables targeted recommendations for urban planning, public health improvements, and resource allocation.\n",
    "- **`points_merged.ipynb`**: Intermediate processing of combined datasets.\n",
    "\n",
    "In this notebook we combined the employment data and K-12 student enrollment data to calculate percentage points for each neighborhood. The employment and enrollment metrics were normalized as percentages relative to their respective maximum values, so that there would be fair comparison across neighborhoods. From the results we saw that neighborhoods with higher employment levels often showed a moderate to high student enrollment indicating a potential correlation between employment opportunities and family settlement patterns. However this was not true for all neighborhoods and some neighborhoods with high student enrollment did not show high employment points, suggesting that it may not be a direct correlation.\n",
    "- **`ranked_merged.ipynb`**: Focused analysis for ranking neighborhoods.\n",
    "\n",
    "In this notebook the land acreage and total deaths data were combined and analyzed by assigning ranks to neighborhoods. Acreage was ranked in ascending order meaning that the smaller areas got higher priority, while deaths were ranked in descending order so the higher deaths received higher ranks. This approach showed the neighborhoods with smaller land sizes but larger death counts, which could indicate population density or other factors influencing mortality rates. The results reveal that certain neighborhoods with smaller acreages also ranked high in death points this could point toward overcrowding or limited access to healthcare. On the other hand neighborhoods with larger acreages and fewer deaths may reflect better living conditions or lower population density. These rankings provide a useful starting point for deeper analysis into public health and urban planning.\n",
    "\n",
    "\n",
    "- **Data Files**:\n",
    "   - `land.csv`  \n",
    "   - `medianagedeath.csv`  \n",
    "   - `employment.csv`  \n",
    "   - `school_enrollment.csv`  \n",
    "- **Output Files**:\n",
    "   - `ranked_points.csv` - Ranked neighborhoods based on acreage and deaths.\n",
    "   - `percent_points.csv` - Percentage-based points for employment and K-12 enrollment.\n",
    "   - `total_points.csv` - Final combined points for all metrics.\n",
    "- **`maps.jpg`**: Visual asset for geographic reference.\n",
    "\n",
    "## Overview\n",
    "This repository integrates neighborhood-level data to rank and evaluate various metrics, such as:\n",
    "- **Land Size** (acres)\n",
    "- **Total Deaths** per neighborhood\n",
    "- **Employment** levels\n",
    "- **K-12 School Enrollment**\n",
    "\n",
    "The analysis uses Python with **pandas** for data processing and outputs useful insights into neighborhood trends.\n"
   ]
  },
  {
   "cell_type": "code",
   "execution_count": null,
   "id": "3ec496d1-f6f9-4dae-a96a-1423d4dbd03c",
   "metadata": {},
   "outputs": [],
   "source": []
  }
 ],
 "metadata": {
  "kernelspec": {
   "display_name": "Python 3 (ipykernel)",
   "language": "python",
   "name": "python3"
  },
  "language_info": {
   "codemirror_mode": {
    "name": "ipython",
    "version": 3
   },
   "file_extension": ".py",
   "mimetype": "text/x-python",
   "name": "python",
   "nbconvert_exporter": "python",
   "pygments_lexer": "ipython3",
   "version": "3.12.4"
  }
 },
 "nbformat": 4,
 "nbformat_minor": 5
}
