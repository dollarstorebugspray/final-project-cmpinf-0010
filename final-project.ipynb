{
 "cells": [
  {
   "cell_type": "markdown",
   "id": "249ee1b9-d72a-42b5-8646-a0f7e20e60f3",
   "metadata": {},
   "source": [
    "Introduction:\n",
    "\n"
   ]
  },
  {
   "cell_type": "markdown",
   "id": "9bb3bf25-fc6a-4a39-a8c8-2e1d6d6daa8f",
   "metadata": {},
   "source": [
    "The Metrics:\n",
    "Acre Dataset Metric:\n",
    "Employment Dataset Metric:\n",
    "K-12 Enrollment Dataset Metric:\n",
    "Median Age of Death Dataset Metric:"
   ]
  },
  {
   "cell_type": "code",
   "execution_count": 52,
   "id": "18757970-2785-4150-bc36-4f0727c64b2d",
   "metadata": {},
   "outputs": [],
   "source": [
    "# CODE TO GET THE DATA TO SHOW OUR NARRATIVE\n",
    "import pandas as pd\n",
    "\n",
    "## GETS FIRST DATASET\n",
    "columns_to_load = ['hood', 'acres']\n",
    "acre_df = pd.read_csv(\"land.csv\", usecols=columns_to_load)\n",
    "acre_df = acre_df.sort_values(by='hood', ascending=True)\n",
    "acre_df.rename(columns={'hood': 'Neighborhood'}, inplace=True)\n",
    "\n",
    "## GETS SECOND DATASET\n",
    "columns_to_load = ['Neighborhood', 'Estimate; Total:']\n",
    "job_df = pd.read_csv(\"employment.csv\", usecols=columns_to_load)\n",
    "\n",
    "\n",
    "df_merged = pd.merge(acre_df, job_df, on='Neighborhood', how='outer')\n",
    "df_merged.rename(columns={'acres': 'Acres'}, inplace=True)\n",
    "df_merged.rename(columns={'Estimate; Total:': 'Employed Residents'}, inplace=True)\n",
    "## FIRST TWO DATASETS MERGED AND ORGANIZED\n",
    "\n",
    "\n",
    "## GETS THIRD DATASET\n",
    "columns_to_load = ['Neighborhood', 'Estimate; Total:']\n",
    "students_df = pd.read_csv(\"school_enrollment.csv\", usecols=columns_to_load)\n",
    "\n",
    "\n",
    "df_merged = pd.merge(df_merged, students_df, on='Neighborhood', how='outer')\n",
    "df_merged.rename(columns={'Estimate; Total:': 'Total K-12 Students'}, inplace=True)\n",
    "\n",
    "## GETS LAST DATASET\n",
    "columns_to_load = ['NEIGHBORHOOD', 'TOTALdeaths*']\n",
    "deaths_df = pd.read_csv(\"medianagedeath.csv\", usecols=columns_to_load)\n",
    "deaths_df.rename(columns={'NEIGHBORHOOD': 'Neighborhood'}, inplace=True)\n",
    "deaths_df.rename(columns={'TOTALdeaths*': 'Total Deaths'}, inplace=True)\n",
    "deaths_df['Neighborhood'] = deaths_df['Neighborhood'].str.title()\n",
    "\n",
    "## MERGES WITH LAST DATASET\n",
    "df_merged = pd.merge(df_merged, deaths_df, on='Neighborhood', how='outer')\n",
    "df_merged.to_csv('final_df.csv', index=False)"
   ]
  },
  {
   "cell_type": "markdown",
   "id": "13aad7de-c052-4791-a057-9eefd885097e",
   "metadata": {},
   "source": [
    "Explain stuff with pictures/visuals of the data to show why X neighborhood is the best. Incorporate a data visualization, perhaps to rank all of the neighborhoods or show a neighborhood’s best-ness over time. The key is to make a data driven argument."
   ]
  },
  {
   "cell_type": "markdown",
   "id": "7e10aa6c-842d-4ec1-b63b-fcb7c337d035",
   "metadata": {},
   "source": [
    "Conclusion: Reflect on how the data-driven determination of “best neighborhood” is the same or different from your personal favorite neighborhood. Each member of the group should write their own response to this.\n"
   ]
  },
  {
   "cell_type": "code",
   "execution_count": null,
   "id": "adbb86ca-3f6d-46b5-a4ed-74bce5dadde4",
   "metadata": {},
   "outputs": [],
   "source": []
  }
 ],
 "metadata": {
  "kernelspec": {
   "display_name": "Python 3 (ipykernel)",
   "language": "python",
   "name": "python3"
  },
  "language_info": {
   "codemirror_mode": {
    "name": "ipython",
    "version": 3
   },
   "file_extension": ".py",
   "mimetype": "text/x-python",
   "name": "python",
   "nbconvert_exporter": "python",
   "pygments_lexer": "ipython3",
   "version": "3.11.5"
  }
 },
 "nbformat": 4,
 "nbformat_minor": 5
}
